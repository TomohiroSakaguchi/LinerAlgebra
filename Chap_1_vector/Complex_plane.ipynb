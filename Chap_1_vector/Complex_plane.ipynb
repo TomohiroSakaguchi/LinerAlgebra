{
 "cells": [
  {
   "cell_type": "markdown",
   "metadata": {},
   "source": [
    "# 複素数の定義\n",
    "## introducuton\n",
    "$$j^2=-1$$\n",
    "この式を満たす記号$j$を考え，この$j$を虚数単位と呼び，$\\sqrt{-1}$を表す．\n",
    "(Pythonでの虚数単位には$j$を用いる)\n",
    "\n",
    "ここで複素数$z$は2つの実数$a,b$と虚数単位$j$で作った式で表す．\n",
    "$$z=a+bj$$\n",
    "ここで複素数$z$に対して\n",
    "$$a-bj$$\n",
    "と表せられる複素数を$z$の共役複素数と呼ぶ．これを記号で$\\overline{z}$と表す．\n",
    "$\\overline{z}$に対する共役複素数は$z$となる．すなわち，以下の関係が与えられる．\n",
    "$$\\overline{\\overline{z}}=z$$\n",
    "コインの表裏と考えるといいかもしれない．\n",
    "\n",
    "また，2つの複素数$a+bj$と$c+dj$が等しいのは\n",
    "$$a = c \\cap b = j$$\n",
    "である．"
   ]
  },
  {
   "cell_type": "code",
   "execution_count": 2,
   "metadata": {},
   "outputs": [
    {
     "name": "stdout",
     "output_type": "stream",
     "text": [
      "z= (2+3j)\n",
      "<class 'complex'>\n"
     ]
    }
   ],
   "source": [
    "#複素数の表し方\n",
    "z = 2+3j\n",
    "print(\"z=\",z)\n",
    "print(type(z))"
   ]
  },
  {
   "cell_type": "code",
   "execution_count": 3,
   "metadata": {},
   "outputs": [
    {
     "name": "stdout",
     "output_type": "stream",
     "text": [
      "z_var= (2-3j)\n"
     ]
    }
   ],
   "source": [
    "#共役複素数\n",
    "z_var = z.conjugate() #ここで共役にしている\n",
    "print(\"z_var=\",z_var)"
   ]
  },
  {
   "cell_type": "code",
   "execution_count": 4,
   "metadata": {},
   "outputs": [
    {
     "name": "stdout",
     "output_type": "stream",
     "text": [
      "z_var_var= (2+3j)\n",
      "true\n"
     ]
    }
   ],
   "source": [
    "#共役の共役\n",
    "z_var_var = z_var.conjugate()\n",
    "print(\"z_var_var=\",z_var_var)\n",
    "\n",
    "#共役の共役は元に戻ることを確認\n",
    "if (z == z_var_var):\n",
    "    print(\"true\")\n",
    "else:\n",
    "    print(\"false\")"
   ]
  },
  {
   "cell_type": "markdown",
   "metadata": {},
   "source": [
    "## 複素数の定理\n",
    "1. 2つの複素数$z,w$に対して以下の定理が成り立つ\n",
    "$$\\overline{z+w}=\\overline{z}+\\overline{w}, \\overline{zw}=\\overline{z}*\\overline{w} $$\n",
    "ここでの$*$は積を表す．\n",
    "\n",
    "また，複素数$z = a +bj$に対して，$z\\overline{z} = a^2 + b^2$が言える．(証明略)"
   ]
  },
  {
   "cell_type": "code",
   "execution_count": 40,
   "metadata": {},
   "outputs": [
    {
     "name": "stdout",
     "output_type": "stream",
     "text": [
      "(9-5j)\n",
      "(9-5j)\n",
      "QED\n"
     ]
    }
   ],
   "source": [
    "#証明1\n",
    "w = 7+2j\n",
    "w_var = w.conjugate()\n",
    "v = z+w\n",
    "# z + w = (2+3j) + (7+2j) = (9+5j)\n",
    "# z_var + w_var = (2-3j) + (7-2j) = (9-5j)\n",
    "if (v.conjugate() == z_var + w_var):\n",
    "    print(v.conjugate())\n",
    "    print(z_var+w_var)\n",
    "    print(\"QED\")\n",
    "else:\n",
    "    print(\"what happen?\")"
   ]
  },
  {
   "cell_type": "code",
   "execution_count": 42,
   "metadata": {},
   "outputs": [
    {
     "name": "stdout",
     "output_type": "stream",
     "text": [
      "(8-25j)\n",
      "(8-25j)\n",
      "QED\n"
     ]
    }
   ],
   "source": [
    "#証明2\n",
    "qat_zw = z*w\n",
    "\n",
    "# z * w = (2+3j) * (7+2j) = 14-6+21j+4j = 8+25j\n",
    "# z_var * w_var = (2-3j) * (7-2j) = 14-6-21j-4j = 8-25j\n",
    "\n",
    "if (qat_zw.conjugate() == z_var*w_var):\n",
    "    print(qat_zw.conjugate())\n",
    "    print(z_var*w_var)\n",
    "    print(\"QED\")\n",
    "else:\n",
    "    print(\"what happen?\")"
   ]
  },
  {
   "cell_type": "markdown",
   "metadata": {},
   "source": [
    "## 絶対値\n",
    "複素数$z = a+bj$に対して\n",
    "$$|z| = \\sqrt{a^2+b^2} = \\sqrt{z\\overline{z}}$$\n",
    "で定義される実数$|z|$を複素数$z$の絶対値という．"
   ]
  },
  {
   "cell_type": "markdown",
   "metadata": {},
   "source": [
    "## 複素平面\n",
    "座標平面$R^2$における点$(a,b)$に複素数$a+bj$に対応させることで平面上の点全体と複素数の全体とは1対1対応になる．\n",
    "\n",
    "これによって平面を複素数全体とみなして複素(数)平面(ガウス平面)という．この座標系の横軸，縦軸をそれぞれ実軸(Real)，虚軸(Imag)と呼ぶ．\n",
    "\n",
    "ちなみにこれまで扱った平面はデカルト平面と呼ばれる．"
   ]
  },
  {
   "cell_type": "code",
   "execution_count": 32,
   "metadata": {},
   "outputs": [
    {
     "data": {
      "text/plain": [
       "Text(2.1, 3.1, 'z')"
      ]
     },
     "execution_count": 32,
     "metadata": {},
     "output_type": "execute_result"
    },
    {
     "data": {
      "image/png": "[encoded data removed]",
      "text/plain": [
       "<Figure size 360x360 with 1 Axes>"
      ]
     },
     "metadata": {},
     "output_type": "display_data"
    }
   ],
   "source": [
    "#図示してみましょう\n",
    "import numpy as np   # NumPyパッケージのインポート\n",
    "import matplotlib.pyplot as plt\n",
    "\n",
    "# 座標設定関数\n",
    "def coordinate(axes, range_x, range_y, grid = True,\n",
    "               xyline = True, xlabel = \"Re\", ylabel = \"Im\"):\n",
    "    axes.set_xlabel(xlabel, fontsize = 16)\n",
    "    axes.set_ylabel(ylabel, fontsize = 16)\n",
    "    axes.set_xlim(range_x[0], range_x[1])\n",
    "    axes.set_ylim(range_y[0], range_y[1])\n",
    "    if grid == True:\n",
    "        axes.grid(color='lightgray')\n",
    "    if xyline == True:\n",
    "        axes.axhline(0, color = \"gray\")\n",
    "        axes.axvline(0, color = \"gray\")\n",
    "        \n",
    "# FigureとAxes\n",
    "fig = plt.figure(figsize = (5, 5))\n",
    "ax = fig.add_subplot(111,facecolor='none',alpha = 1)\n",
    "\n",
    "coordinate(ax, [-0.5, 3], [-0.5, 4])\n",
    "\n",
    "# z = 2+3j\n",
    "real_z = z.real\n",
    "imag_z = z.imag\n",
    "ax.plot(real_z,imag_z,'g*')\n",
    "ax.text(real_z+0.1,imag_z+0.1, \"z\", color = \"green\", size = 15)"
   ]
  },
  {
   "cell_type": "code",
   "execution_count": 51,
   "metadata": {},
   "outputs": [
    {
     "data": {
      "text/plain": [
       "Text(2.1, -3.1, '$\\\\overline{z}$')"
      ]
     },
     "execution_count": 51,
     "metadata": {},
     "output_type": "execute_result"
    },
    {
     "data": {
      "image/png": "[encoded data removed]",
      "text/plain": [
       "<Figure size 360x360 with 1 Axes>"
      ]
     },
     "metadata": {},
     "output_type": "display_data"
    }
   ],
   "source": [
    "# FigureとAxes\n",
    "fig = plt.figure(figsize = (5, 5))\n",
    "ax = fig.add_subplot(111,facecolor='none',alpha = 1)\n",
    "coordinate(ax, [-0.5, 3], [-4, 4])\n",
    "\n",
    "# z = 2+3j\n",
    "real_z_var = z_var.real\n",
    "imag_z_var = z_var.imag\n",
    "\n",
    "ax.plot(real_z,imag_z,'g*',real_z_var,imag_z_var,'bo')\n",
    "ax.text(real_z+0.1,imag_z+0.1, \"z\", color = \"green\", size = 15)\n",
    "ax.text(real_z_var+0.1,imag_z_var-0.1, r\"$\\overline{z}$\", color = \"blue\", size = 15)"
   ]
  },
  {
   "cell_type": "markdown",
   "metadata": {},
   "source": [
    "この複素平面において，複素数$z = a+bj$の位置ベクトル$\\vec{Oz}$の長さ$||\\vec{Oz}||$が複素数$z$の絶対値と対応する．\n",
    "\n",
    "また，$z \\neq 0$のとき，ベクトル$\\vec{Oz}$が実軸の正方向から角$\\theta$の位置にあるとき，$\\theta$を$z$の偏角といい，\n",
    "$$\n",
    "\\theta = arg z\n",
    "$$\n",
    "と表す．\n",
    "この角$\\theta$は$2\\pi$を法とする合同式をとると１つに定めることができる．\n",
    "\n",
    "ここで，$a = cos \\theta, b = sin \\theta, r = |z|$とすると，\n",
    "$$\n",
    "z = r(cos \\theta+j sin \\theta)\n",
    "$$\n",
    "と表すことができ，極形式という．"
   ]
  },
  {
   "cell_type": "code",
   "execution_count": 106,
   "metadata": {},
   "outputs": [
    {
     "data": {
      "image/png": "[encoded data removed]",
      "text/plain": [
       "<Figure size 360x360 with 1 Axes>"
      ]
     },
     "metadata": {},
     "output_type": "display_data"
    }
   ],
   "source": [
    "import matplotlib.patches as patches\n",
    "\n",
    "# FigureとAxes\n",
    "fig = plt.figure(figsize = (5, 5))\n",
    "ax = fig.add_subplot(111,facecolor='none',alpha = 1)\n",
    "coordinate(ax, [-0.5, 3], [-0.5, 4])\n",
    "\n",
    "z = 2+3j\n",
    "ax.plot(real_z,imag_z,'g*',real_z_var,imag_z_var,'bo')\n",
    "ax.text(real_z+0.1,imag_z+0.1, r\"$z=a+bj =r(cos \\theta+jsin\\theta)$\", color = \"green\", size = 15)\n",
    "\n",
    "ax.plot([0,2], [0, 3], color = \"black\")\n",
    "ax.plot([2,2], [0, 3], ls = \"--\", color = \"gray\")\n",
    "ax.plot([0,2], [3, 3], ls = \"--\", color = \"gray\")\n",
    "ax.text(real_z-0.3,-0.3, r\"$rcos \\theta$\", color = \"black\", size = 15)\n",
    "ax.text(-0.5,imag_z-0.1, r\"$rsin\\theta$\", color = \"black\", size = 15)\n",
    "ax.text(real_z/2-0.2,imag_z/2, \"$r$\", color = \"black\", size = 17)\n",
    "\n",
    "\n",
    "#偏角の矢印書き入れ\n",
    "arrow_dict = dict(width = 2,connectionstyle = \"angle3,angleA = 80, angleB = 0\", color = \"red\")\n",
    "ax.annotate(\"\", xy = (0.3, 0.3*(3/2)), size = 10, xytext = (0.5, 0),\n",
    "            color = \"red\", arrowprops = arrow_dict)\n",
    "\n",
    "ax.text(0.6, 0.2, r\"$\\theta$\", color = \"red\", size = 15)\n",
    "plt.show()"
   ]
  },
  {
   "cell_type": "code",
   "execution_count": null,
   "metadata": {},
   "outputs": [],
   "source": []
  }
 ],
 "metadata": {
  "kernelspec": {
   "display_name": "Python 3",
   "language": "python",
   "name": "python3"
  },
  "language_info": {
   "codemirror_mode": {
    "name": "ipython",
    "version": 3
   },
   "file_extension": ".py",
   "mimetype": "text/x-python",
   "name": "python",
   "nbconvert_exporter": "python",
   "pygments_lexer": "ipython3",
   "version": "3.7.6"
  }
 },
 "nbformat": 4,
 "nbformat_minor": 2
}
