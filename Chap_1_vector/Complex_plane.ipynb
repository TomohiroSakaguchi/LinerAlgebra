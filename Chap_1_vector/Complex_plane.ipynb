{
 "cells": [
  {
   "cell_type": "markdown",
   "metadata": {},
   "source": [
    "# 複素数の定義\n",
    "## introducuton\n",
    "$$j^2=-1$$\n",
    "この式を満たす記号$j$を考え，この$j$を虚数単位と呼び，$\\sqrt{-1}$を表す．\n",
    "(Pythonでの虚数単位には$j$を用いる)\n",
    "\n",
    "ここで複素数$z$は2つの実数$a,b$と虚数単位$j$で作った式で表す．\n",
    "$$z=a+bj$$\n",
    "ここで複素数$z$に対して\n",
    "$$a-bj$$\n",
    "と表せられる複素数を$z$の共役複素数と呼ぶ．これを記号で$\\overline{z}$と表す．\n",
    "$\\overline{z}$に対する共役複素数は$z$となる．すなわち，以下の関係が与えられる．\n",
    "$$\\overline{\\overline{z}}=z$$\n",
    "コインの表裏と考えるといいかもしれない．\n",
    "\n",
    "また，2つの複素数$a+bj$と$c+dj$が等しいのは\n",
    "$$a = c \\cap b = j$$\n",
    "である．"
   ]
  },
  {
   "cell_type": "code",
   "execution_count": 2,
   "metadata": {},
   "outputs": [
    {
     "name": "stdout",
     "output_type": "stream",
     "text": [
      "z= (2+3j)\n",
      "<class 'complex'>\n"
     ]
    }
   ],
   "source": [
    "#複素数の表し方\n",
    "z = 2+3j\n",
    "print(\"z=\",z)\n",
    "print(type(z))"
   ]
  },
  {
   "cell_type": "code",
   "execution_count": 3,
   "metadata": {},
   "outputs": [
    {
     "name": "stdout",
     "output_type": "stream",
     "text": [
      "z_var= (2-3j)\n"
     ]
    }
   ],
   "source": [
    "#共役複素数\n",
    "z_var = z.conjugate() #ここで共役にしている\n",
    "print(\"z_var=\",z_var)"
   ]
  },
  {
   "cell_type": "code",
   "execution_count": 4,
   "metadata": {},
   "outputs": [
    {
     "name": "stdout",
     "output_type": "stream",
     "text": [
      "z_var_var= (2+3j)\n",
      "true\n"
     ]
    }
   ],
   "source": [
    "#共役の共役\n",
    "z_var_var = z_var.conjugate()\n",
    "print(\"z_var_var=\",z_var_var)\n",
    "\n",
    "#共役の共役は元に戻ることを確認\n",
    "if (z == z_var_var):\n",
    "    print(\"true\")\n",
    "else:\n",
    "    print(\"false\")"
   ]
  },
  {
   "cell_type": "markdown",
   "metadata": {},
   "source": [
    "## 複素数の定理\n",
    "1. 2つの複素数$z,w$に対して以下の定理が成り立つ\n",
    "$$\\overline{z+w}=\\overline{z}+\\overline{w}, \\overline{zw}=\\overline{z}*\\overline{w} $$\n",
    "ここでの$*$は積を表す．\n",
    "\n",
    "また，複素数$z = a +bj$に対して，$z\\overline{z} = a^2 + b^2$が言える．(証明略)"
   ]
  },
  {
   "cell_type": "code",
   "execution_count": 5,
   "metadata": {},
   "outputs": [
    {
     "name": "stdout",
     "output_type": "stream",
     "text": [
      "(9-5j)\n",
      "(9-5j)\n",
      "QED\n"
     ]
    }
   ],
   "source": [
    "#証明1\n",
    "w = 7+2j\n",
    "w_var = w.conjugate()\n",
    "v = z+w\n",
    "# z + w = (2+3j) + (7+2j) = (9+5j)\n",
    "# z_var + w_var = (2-3j) + (7-2j) = (9-5j)\n",
    "if (v.conjugate() == z_var + w_var):\n",
    "    print(v.conjugate())\n",
    "    print(z_var+w_var)\n",
    "    print(\"QED\")\n",
    "else:\n",
    "    print(\"what happen?\")"
   ]
  },
  {
   "cell_type": "code",
   "execution_count": 6,
   "metadata": {},
   "outputs": [
    {
     "name": "stdout",
     "output_type": "stream",
     "text": [
      "(8-25j)\n",
      "(8-25j)\n",
      "QED\n"
     ]
    }
   ],
   "source": [
    "#証明2\n",
    "qat_zw = z*w\n",
    "\n",
    "# z * w = (2+3j) * (7+2j) = 14-6+21j+4j = 8+25j\n",
    "# z_var * w_var = (2-3j) * (7-2j) = 14-6-21j-4j = 8-25j\n",
    "\n",
    "if (qat_zw.conjugate() == z_var*w_var):\n",
    "    print(qat_zw.conjugate())\n",
    "    print(z_var*w_var)\n",
    "    print(\"QED\")\n",
    "else:\n",
    "    print(\"what happen?\")"
   ]
  },
  {
   "cell_type": "markdown",
   "metadata": {},
   "source": [
    "## 絶対値\n",
    "複素数$z = a+bj$に対して\n",
    "$$|z| = \\sqrt{a^2+b^2} = \\sqrt{z\\overline{z}}$$\n",
    "で定義される実数$|z|$を複素数$z$の絶対値という．"
   ]
  },
  {
   "cell_type": "markdown",
   "metadata": {},
   "source": [
    "## 複素平面\n",
    "座標平面$R^2$における点$(a,b)$に複素数$a+bj$に対応させることで平面上の点全体と複素数の全体とは1対1対応になる．\n",
    "\n",
    "これによって平面を複素数全体とみなして複素(数)平面(ガウス平面)という．この座標系の横軸，縦軸をそれぞれ実軸(Real)，虚軸(Imag)と呼ぶ．\n",
    "\n",
    "ちなみにこれまで扱った平面はデカルト平面と呼ばれる．"
   ]
  },
  {
   "cell_type": "code",
   "execution_count": 11,
   "metadata": {},
   "outputs": [
    {
     "data": {
      "text/plain": [
       "Text(2.1, 3.1, 'z')"
      ]
     },
     "execution_count": 11,
     "metadata": {},
     "output_type": "execute_result"
    },
    {
     "data": {
      "image/png": "[encoded data removed]",
      "text/plain": [
       "<Figure size 360x360 with 1 Axes>"
      ]
     },
     "metadata": {
      "needs_background": "light"
     },
     "output_type": "display_data"
    }
   ],
   "source": [
    "#図示してみましょう\n",
    "import numpy as np   # NumPyパッケージのインポート\n",
    "import matplotlib.pyplot as plt\n",
    "\n",
    "# 座標設定関数\n",
    "def coordinate(axes, range_x, range_y, grid = True,\n",
    "               xyline = True, xlabel = \"Re\", ylabel = \"Im\"):\n",
    "    axes.set_xlabel(xlabel, fontsize = 16)\n",
    "    axes.set_ylabel(ylabel, fontsize = 16)\n",
    "    axes.set_xlim(range_x[0], range_x[1])\n",
    "    axes.set_ylim(range_y[0], range_y[1])\n",
    "    if grid == True:\n",
    "        axes.grid(color='lightgray')\n",
    "    if xyline == True:\n",
    "        axes.axhline(0, color = \"gray\")\n",
    "        axes.axvline(0, color = \"gray\")\n",
    "        \n",
    "# FigureとAxes\n",
    "fig = plt.figure(figsize = (5, 5))\n",
    "ax = fig.add_subplot(111,facecolor='none',alpha = 1)\n",
    "\n",
    "coordinate(ax, [-0.5, 3], [-0.5, 4])\n",
    "\n",
    "# z = 2+3j\n",
    "real_z = z.real\n",
    "imag_z = z.imag\n",
    "ax.plot(real_z,imag_z,'g*')\n",
    "ax.text(real_z+0.1,imag_z+0.1, \"z\", color = \"green\", size = 15)"
   ]
  },
  {
   "cell_type": "code",
   "execution_count": 8,
   "metadata": {},
   "outputs": [
    {
     "data": {
      "text/plain": [
       "Text(2.1, -3.1, '$\\\\overline{z}$')"
      ]
     },
     "execution_count": 8,
     "metadata": {},
     "output_type": "execute_result"
    },
    {
     "data": {
      "image/png": "[encoded data removed]",
      "text/plain": [
       "<Figure size 360x360 with 1 Axes>"
      ]
     },
     "metadata": {
      "needs_background": "light"
     },
     "output_type": "display_data"
    }
   ],
   "source": [
    "# FigureとAxes\n",
    "fig = plt.figure(figsize = (5, 5))\n",
    "ax = fig.add_subplot(111,facecolor='none',alpha = 1)\n",
    "coordinate(ax, [-0.5, 3], [-4, 4])\n",
    "\n",
    "# z = 2+3j\n",
    "real_z_var = z_var.real\n",
    "imag_z_var = z_var.imag\n",
    "\n",
    "ax.plot(real_z,imag_z,'g*',real_z_var,imag_z_var,'bo')\n",
    "ax.text(real_z+0.1,imag_z+0.1, \"z\", color = \"green\", size = 15)\n",
    "ax.text(real_z_var+0.1,imag_z_var-0.1, r\"$\\overline{z}$\", color = \"blue\", size = 15)"
   ]
  },
  {
   "cell_type": "markdown",
   "metadata": {},
   "source": [
    "この複素平面において，複素数$z = a+bj$の位置ベクトル$\\vec{Oz}$の長さ$||\\vec{Oz}||$が複素数$z$の絶対値と対応する．\n",
    "\n",
    "また，$z \\neq 0$のとき，ベクトル$\\vec{Oz}$が実軸の正方向から角$\\theta$の位置にあるとき，$\\theta$を$z$の偏角といい，\n",
    "$$\n",
    "\\theta = \\mathrm{arg} z\n",
    "$$\n",
    "と表す．\n",
    "この角$\\theta$は$2\\pi$を法とする合同式をとると１つに定めることができる．\n",
    "\n",
    "ここで，$a = \\mathrm{cos} \\theta, b = \\mathrm{sin} \\theta, r = |z|$とすると，\n",
    "$$\n",
    "z = r(\\mathrm{cos} \\theta+j \\mathrm{sin} \\theta)\n",
    "$$\n",
    "と表すことができ，極形式という．"
   ]
  },
  {
   "cell_type": "code",
   "execution_count": 10,
   "metadata": {},
   "outputs": [
    {
     "data": {
      "image/png": "[encoded data removed]",
      "text/plain": [
       "<Figure size 360x360 with 1 Axes>"
      ]
     },
     "metadata": {
      "needs_background": "light"
     },
     "output_type": "display_data"
    }
   ],
   "source": [
    "import matplotlib.patches as patches\n",
    "\n",
    "# FigureとAxes\n",
    "fig = plt.figure(figsize = (5, 5))\n",
    "ax = fig.add_subplot(111,facecolor='none',alpha = 1)\n",
    "coordinate(ax, [-0.5, 3], [-0.5, 4])\n",
    "\n",
    "z = 2+3j\n",
    "ax.plot(real_z,imag_z,'g*',real_z_var,imag_z_var,'bo')\n",
    "ax.text(real_z+0.1,imag_z+0.1, r\"$z=a+bj =r(\\mathrm{cos} \\theta+j\\mathrm{sin}\\theta)$\", color = \"green\", size = 15)\n",
    "\n",
    "ax.plot([0,2], [0, 3], color = \"black\")\n",
    "ax.plot([2,2], [0, 3], ls = \"--\", color = \"gray\")\n",
    "ax.plot([0,2], [3, 3], ls = \"--\", color = \"gray\")\n",
    "ax.text(real_z-0.3,-0.3, r\"$r\\mathrm{cos} \\theta$\", color = \"black\", size = 15)\n",
    "ax.text(-0.5,imag_z-0.1, r\"$r\\mathrm{sin}\\theta$\", color = \"black\", size = 15)\n",
    "ax.text(real_z/2-0.2,imag_z/2, \"$r$\", color = \"black\", size = 17)\n",
    "\n",
    "\n",
    "#偏角の矢印書き入れ\n",
    "arrow_dict = dict(width = 2,connectionstyle = \"angle3,angleA = 80, angleB = 0\", color = \"red\")\n",
    "ax.annotate(\"\", xy = (0.3, 0.3*(3/2)), size = 10, xytext = (0.5, 0),\n",
    "            color = \"red\", arrowprops = arrow_dict)\n",
    "\n",
    "ax.text(0.6, 0.2, r\"$\\theta$\", color = \"red\", size = 15)\n",
    "plt.show()"
   ]
  },
  {
   "cell_type": "markdown",
   "metadata": {},
   "source": [
    "### 複素数の定理\n",
    "$$|zw| = |z||w|$$\n",
    "$$\\mathrm{arg}(zw) \\equiv \\mathrm{arg} z + \\mathrm{arg} w  (\\mathrm{mod}2\\pi)$$\n",
    "また，$w \\neq 0$のとき，\n",
    "$$|\\frac{z}{w}| = \\frac{|z|}{|w|}$$\n",
    "$$\\mathrm{arg}(\\frac{z}{w}) \\equiv \\mathrm{arg}z - \\mathrm{arg}w (\\mathrm{mod}2\\pi)$$\n",
    "証明に関しては複素数をそれぞれ極形式で表し，加法定理と負の角度の公式を用いることで可能である．\n",
    "\n",
    "以下に結論だけ記述をする．ここで$z= r(\\mathrm{cos}\\theta+j\\mathrm{sin}\\theta),w = s(\\mathrm{cos}\\tau+j\\mathrm{sin}\\tau)$とする．\n",
    "$$\n",
    "zw = rs(\\mathrm{cos}(\\theta+\\tau)+j\\mathrm{sin}(\\theta+\\tau))\n",
    "$$\n",
    "\n",
    "$$\n",
    "\\frac{1}{w} = \\frac{1}{s}(\\mathrm{cos}(-\\tau)+j\\mathrm{sin}(-\\tau))\n",
    "$$\n",
    "より\n",
    "$$\n",
    "\\frac{z}{w} = \\frac{r}{s}(\\mathrm{cos}(\\theta-\\tau)+j\\mathrm{sin}(\\theta-\\tau))\n",
    "$$"
   ]
  },
  {
   "cell_type": "markdown",
   "metadata": {},
   "source": [
    "## 複素数の演算\n",
    "### 加法\n",
    "$$z = a+bj,w = c+dj$$\n",
    "に対して，\n",
    "$$z+w = (a+c)+(b+d)j$$\n",
    "となる．これは実軸の値と虚部の値に対してそれぞれ和を取っていることになる．\n",
    "\n",
    "つまり，$z+w$の位置ベクトルは$z$の位置ベクトルと$w$の位置ベクトルの和に等しい．"
   ]
  },
  {
   "cell_type": "code",
   "execution_count": 72,
   "metadata": {},
   "outputs": [
    {
     "data": {
      "text/plain": [
       "[<matplotlib.lines.Line2D at 0x116a9b850>]"
      ]
     },
     "execution_count": 72,
     "metadata": {},
     "output_type": "execute_result"
    },
    {
     "data": {
      "image/png": "[encoded data removed]",
      "text/plain": [
       "<Figure size 360x360 with 1 Axes>"
      ]
     },
     "metadata": {
      "needs_background": "light"
     },
     "output_type": "display_data"
    }
   ],
   "source": [
    "#加法の図示\n",
    "# ベクトル描画関数\n",
    "def visual_vector(axes, loc, vector, color = \"red\"):\n",
    "    axes.quiver(loc[0], loc[1],\n",
    "              vector[0], vector[1], color = color,\n",
    "              angles = 'xy', scale_units = 'xy', scale = 1)\n",
    "\n",
    "# FigureとAxes\n",
    "fig = plt.figure(figsize = (5, 5))\n",
    "ax = fig.add_subplot(111,facecolor='none',alpha = 1)\n",
    "\n",
    "coordinate(ax, [-0.5, 3.5], [-0.5, 3.5])\n",
    "\n",
    "#複素数の定義\n",
    "z = 2+1j #プログラムとして組む場合は1*jと表記(忘れるとエラーが出る)\n",
    "w = 1+2j\n",
    "real_z = z.real\n",
    "imag_z = z.imag\n",
    "real_w = w.real\n",
    "imag_w = w.imag\n",
    "ax.plot(real_z,imag_z,'g*',real_w,imag_w,'bo')\n",
    "ax.plot(real_z+real_w,imag_z+imag_w,\"x\")\n",
    "ax.text(real_z+0.1,imag_z-0.25, \"z\", color = \"green\", size = 15)\n",
    "ax.text(real_w-0.3,imag_w, \"w\", color = \"blue\", size = 15)\n",
    "ax.text(real_z+real_w-0.55,imag_z+imag_w+0.1, \"z+w\", color = \"darkblue\", size = 15)\n",
    "\n",
    "visual_vector(ax, [0, 0], [real_z,imag_z], \"red\")\n",
    "visual_vector(ax, [0, 0], [real_w,imag_w], \"black\")\n",
    "visual_vector(ax, [0, 0], [real_z+real_w,imag_z+imag_w], \"darkblue\")\n",
    "ax.plot([real_z,real_z+real_w], [imag_z, imag_z+imag_w], ls = \"--\", color = \"gray\")\n",
    "ax.plot([real_w,real_z+real_w], [imag_w, imag_z+imag_w], ls = \"--\", color = \"gray\")"
   ]
  },
  {
   "cell_type": "markdown",
   "metadata": {},
   "source": [
    "### 乗法\n",
    "先述の定理の通り，積$zw$の位置ベクトルは，$z$の位置ベクトルを$|w|$倍したものを原点$O$まわりに角$\\mathrm{arg}w$だけ回転させたものである．"
   ]
  },
  {
   "cell_type": "code",
   "execution_count": 79,
   "metadata": {},
   "outputs": [
    {
     "name": "stdout",
     "output_type": "stream",
     "text": [
      "zw= (-1+7j)\n",
      "|z||w|= 7.071067811865476\n",
      "|zw|= 7.0710678118654755\n"
     ]
    },
    {
     "data": {
      "image/png": "[encoded data removed]",
      "text/plain": [
       "<Figure size 360x360 with 1 Axes>"
      ]
     },
     "metadata": {
      "needs_background": "light"
     },
     "output_type": "display_data"
    }
   ],
   "source": [
    "#乗法の図示\n",
    "import matplotlib.patches as patches\n",
    "\n",
    "# FigureとAxes\n",
    "fig = plt.figure(figsize = (5, 5))\n",
    "ax = fig.add_subplot(111,facecolor='none',alpha = 1)\n",
    "coordinate(ax, [-1.5, 2.5], [-0.5, 7.5])\n",
    "\n",
    "z = 2+1j\n",
    "w = 1 + 3j\n",
    "v = z*w\n",
    "len_z = abs(z)\n",
    "len_w = abs(w)\n",
    "len_v = abs(v)\n",
    "print(\"zw=\",v)\n",
    "print(\"|z||w|=\",len_z*len_w)\n",
    "print(\"|zw|=\",len_v)\n",
    "real_z = z.real\n",
    "imag_z = z.imag\n",
    "real_w = w.real\n",
    "imag_w = w.imag\n",
    "real_v = v.real\n",
    "imag_v = v.imag\n",
    "ax.plot(real_z,imag_z,'g*',real_w,imag_w,'bo')\n",
    "ax.plot(real_v,imag_v,\"x\")\n",
    "ax.text(real_z+0.1,imag_z-0.25, \"z\", color = \"green\", size = 15)\n",
    "ax.text(real_w-0.3,imag_w, \"w\", color = \"blue\", size = 15)\n",
    "ax.text(real_v-0.3,imag_v+0.1, \"zw\", color = \"darkblue\", size = 15)\n",
    "\n",
    "visual_vector(ax, [0, 0], [real_z,imag_z], \"red\")\n",
    "#visual_vector(ax, [0, 0], [len_z*real_w,len_z*imag_w], \"gray\") #wに対して|z|倍する\n",
    "visual_vector(ax, [0, 0], [real_w,imag_w], \"black\")\n",
    "visual_vector(ax, [0, 0], [real_v,imag_v], \"darkblue\")\n",
    "ax.plot([real_v,real_w], [imag_v, imag_w], ls = \"--\", color = \"gray\")\n",
    "ax.plot([1,real_z], [0, imag_z], ls = \"--\", color = \"gray\")\n",
    "\n",
    "\n",
    "#偏角の矢印書き入れ\n",
    "arrow_dict = dict(width = 1,connectionstyle = \"angle3,angleA = 80, angleB = 0\", color = \"red\")\n",
    "ax.annotate(\"\", xy = (1, 1*(1/2)), size = 10, xytext = (1.2, 0),color = \"red\", arrowprops = arrow_dict)\n",
    "\n",
    "ax.annotate(\"\", xy = (-0.15, -0.15*(-7)), size = 10, xytext = (0.3, 0.3*3),color = \"black\", arrowprops = arrow_dict)\n",
    "\n",
    "ax.text(1.3, 0.2, r\"$\\theta$\", color = \"red\", size = 15)\n",
    "ax.text(0.1, 1.1, r\"$\\theta$\", color = \"red\", size = 15)\n",
    "plt.show()"
   ]
  },
  {
   "cell_type": "markdown",
   "metadata": {},
   "source": [
    "上の図により3点$O,1,z$を頂点とする三角形と3点$O,w,zw$を頂点とする三角形を頂点とする三角形は同じ向きに相似であると言える．\n",
    "\n",
    "(3つの辺の長さの比がそれぞれ等しい)"
   ]
  },
  {
   "cell_type": "markdown",
   "metadata": {},
   "source": [
    "### ド・モアブル(の)公式\n",
    "積$zw$の定理に対して，$w = z$としたとき積$zz$は以下のように表される．\n",
    "$$\n",
    "zz = z^2 = r^2(\\mathrm{cos}\\theta+j\\mathrm{sin}\\theta)^2 = r^2(\\mathrm{cos}2\\theta+j\\mathrm{sin}2\\theta)\n",
    "$$\n",
    "これを繰りかえし適用することで正の整数$n$に対して以下の等式が成り立つ．\n",
    "$$\n",
    "z^n = r^n(\\mathrm{cos}\\theta+j\\mathrm{sin}\\theta)^n = r^n(\\mathrm{cos}n\\theta+j\\mathrm{sin}n\\theta)\n",
    "$$\n",
    "この等式の右2辺だけ持ってくると以下の等式になり，これがド・モアブル(の)公式である．\n",
    "$$\n",
    "(\\mathrm{cos}\\theta+j\\mathrm{sin}\\theta)^n = (\\mathrm{cos}n\\theta+j\\mathrm{sin}n\\theta)\n",
    "$$\n",
    "ちなみにこの等式は数学的帰納法により証明可能である．(証明略)"
   ]
  },
  {
   "cell_type": "code",
   "execution_count": 133,
   "metadata": {},
   "outputs": [
    {
     "name": "stdout",
     "output_type": "stream",
     "text": [
      "(0.7071067811865475+0.7071067811865475j)\n",
      "(0.7071067811865475+0.7071067811865475j)\n"
     ]
    },
    {
     "data": {
      "image/png": "[encoded data removed]",
      "text/plain": [
       "<Figure size 360x360 with 1 Axes>"
      ]
     },
     "metadata": {
      "needs_background": "light"
     },
     "output_type": "display_data"
    }
   ],
   "source": [
    "#乗法の図示\n",
    "import cmath\n",
    "import matplotlib.patches as patches\n",
    "\n",
    "# FigureとAxes\n",
    "fig = plt.figure(figsize = (5, 5))\n",
    "ax = fig.add_subplot(111,facecolor='none',alpha = 1)\n",
    "coordinate(ax, [-1.5, 1.5], [-1.5, 1.5])\n",
    "\n",
    "z =[]\n",
    "root2 = cmath.sqrt(2)\n",
    "initial_z = (1+1j)/root2\n",
    "z.append(initial_z)\n",
    "for index in range(7):\n",
    "    #tmp =  index +1\n",
    "    next_z = z[0]**(index+2)\n",
    "    z.append(next_z)\n",
    "    \n",
    "for index in range(len(z)):\n",
    "    real_z = z[index].real\n",
    "    imag_z = z[index].imag\n",
    "    ax.plot(real_z,imag_z,\"x\")\n",
    "    st_index = str(index)\n",
    "    ax.text(real_z,imag_z+0.1, \"$z^{}$\".format(index), size = 15)"
   ]
  },
  {
   "cell_type": "markdown",
   "metadata": {},
   "source": [
    "この図の場合，$\\mathrm{arg}z = \\frac{\\pi}{4}$かつ$|z|=1$なので単位円上を複素数のべき乗が動いているような点になる．"
   ]
  },
  {
   "cell_type": "markdown",
   "metadata": {},
   "source": [
    "## 複素ベクトル空間\n",
    "実数を並べた数ベクトルと同様に，複素数を並べた数ベクトルが考えられる．\n",
    "\n",
    "複素数全体からなる集合を$C$で表す．この$C$には加減乗除の演算が定義され，$n$個の複素数を並べた組を$n$次元複素ベクトルと呼ぶ．\n",
    "\n",
    "これは以下の様式で示される．\n",
    "$$\n",
    "\\boldsymbol{a} = \\begin{bmatrix}\n",
    "a_1  \\\\\n",
    "\\vdots \\\\\n",
    "a_n \\\\\n",
    "\\end{bmatrix}\n",
    ",\n",
    "a_i \\in C\n",
    "$$\n",
    "このとき，ベクトルの足し算やスカラー倍は実数のときと同様に定義される．(スカラーも複素数になる)\n",
    "このような$n$次元複素ベクトル全体からなる集合を複素ベクトル空間と呼び，$C^n$で表す．これに対し，今まで扱った$n$次元実ベクトル全体からなる集合を実ベクトル空間と呼び，$R^n$で表す．"
   ]
  },
  {
   "cell_type": "code",
   "execution_count": null,
   "metadata": {},
   "outputs": [],
   "source": []
  }
 ],
 "metadata": {
  "kernelspec": {
   "display_name": "Python 3",
   "language": "python",
   "name": "python3"
  },
  "language_info": {
   "codemirror_mode": {
    "name": "ipython",
    "version": 3
   },
   "file_extension": ".py",
   "mimetype": "text/x-python",
   "name": "python",
   "nbconvert_exporter": "python",
   "pygments_lexer": "ipython3",
   "version": "3.7.6"
  }
 },
 "nbformat": 4,
 "nbformat_minor": 2
}
