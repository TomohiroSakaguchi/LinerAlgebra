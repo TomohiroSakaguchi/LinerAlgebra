{
 "cells": [
  {
   "cell_type": "markdown",
   "metadata": {},
   "source": [
    "# 複素数の定義\n",
    "$$i^2=-1$$\n",
    "この式を満たす記号$i$を考え，この$i$を虚数単位と呼び，$\\sqrt{-1}$を表す．\n",
    "ここで複素数$z$は2つの実数$a,b$と虚数単位$i$で作った式で表す．\n",
    "$$z=a+bi$$\n",
    "ここで複素数$z$に対して\n",
    "$$a-bi$$\n",
    "と表せられる複素数を$z$の共役複素数と呼ぶ．これを記号で$\\overline{z}$と表す．\n",
    "$\\overline{z}$に対する共役複素数は$z$となる．すなわち，以下の関係が与えられる．\n",
    "$$\\overline{\\overline{z}}=z$$\n",
    "## 複素数の定理\n"
   ]
  },
  {
   "cell_type": "code",
   "execution_count": null,
   "metadata": {},
   "outputs": [],
   "source": []
  }
 ],
 "metadata": {
  "kernelspec": {
   "display_name": "Python 3",
   "language": "python",
   "name": "python3"
  },
  "language_info": {
   "codemirror_mode": {
    "name": "ipython",
    "version": 3
   },
   "file_extension": ".py",
   "mimetype": "text/x-python",
   "name": "python",
   "nbconvert_exporter": "python",
   "pygments_lexer": "ipython3",
   "version": "3.7.6"
  }
 },
 "nbformat": 4,
 "nbformat_minor": 2
}
