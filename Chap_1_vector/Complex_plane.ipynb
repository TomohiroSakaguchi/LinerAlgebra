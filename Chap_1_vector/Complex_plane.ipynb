{
 "cells": [
  {
   "cell_type": "markdown",
   "metadata": {},
   "source": [
    "# 複素数の定義\n",
    "$$j^2=-1$$\n",
    "この式を満たす記号$j$を考え，この$j$を虚数単位と呼び，$\\sqrt{-1}$を表す．\n",
    "(Pythonでの虚数単位には$j$を用いる)\n",
    "\n",
    "ここで複素数$z$は2つの実数$a,b$と虚数単位$j$で作った式で表す．\n",
    "$$z=a+bj$$\n",
    "ここで複素数$z$に対して\n",
    "$$a-bj$$\n",
    "と表せられる複素数を$z$の共役複素数と呼ぶ．これを記号で$\\overline{z}$と表す．\n",
    "$\\overline{z}$に対する共役複素数は$z$となる．すなわち，以下の関係が与えられる．\n",
    "$$\\overline{\\overline{z}}=z$$\n",
    "コインの表裏と考えるといいかもしれない．"
   ]
  },
  {
   "cell_type": "code",
   "execution_count": 12,
   "metadata": {},
   "outputs": [
    {
     "name": "stdout",
     "output_type": "stream",
     "text": [
      "z= (2+3j)\n",
      "<class 'complex'>\n"
     ]
    }
   ],
   "source": [
    "#複素数の表し方\n",
    "z = 2+3j\n",
    "print(\"z=\",z)\n",
    "print(type(z))"
   ]
  },
  {
   "cell_type": "code",
   "execution_count": 13,
   "metadata": {},
   "outputs": [
    {
     "name": "stdout",
     "output_type": "stream",
     "text": [
      "z_var= (2-3j)\n"
     ]
    }
   ],
   "source": [
    "#共役複素数\n",
    "z_var = z.conjugate() #ここで共役にしている\n",
    "print(\"z_var=\",z_var)"
   ]
  },
  {
   "cell_type": "code",
   "execution_count": 14,
   "metadata": {},
   "outputs": [
    {
     "name": "stdout",
     "output_type": "stream",
     "text": [
      "z_var_var= (2+3j)\n",
      "true\n"
     ]
    }
   ],
   "source": [
    "#共役の共役\n",
    "z_var_var = z_var.conjugate()\n",
    "print(\"z_var_var=\",z_var_var)\n",
    "\n",
    "#共役の共役は元に戻ることを確認\n",
    "if (z == z_var_var):\n",
    "    print(\"true\")\n",
    "else:\n",
    "    print(\"false\")"
   ]
  },
  {
   "cell_type": "code",
   "execution_count": 44,
   "metadata": {},
   "outputs": [
    {
     "data": {
      "image/png": "[encoded data removed]",
      "text/plain": [
       "<Figure size 432x288 with 1 Axes>"
      ]
     },
     "metadata": {},
     "output_type": "display_data"
    }
   ],
   "source": [
    "#図示してみましょう\n",
    "import numpy as np   # NumPyパッケージのインポート\n",
    "import matplotlib.pyplot as plt\n",
    "real_z = z.real\n",
    "imag_z = z.imag\n",
    "fig = plt.figure()\n",
    "plt.xlim(-0.5,3)\n",
    "plt.ylim(-0.5,4)\n",
    "plt.style.use('ggplot')\n",
    "plt.plot(real_z,imag_z,'g*')\n",
    "plt.show()"
   ]
  },
  {
   "cell_type": "code",
   "execution_count": 45,
   "metadata": {},
   "outputs": [
    {
     "data": {
      "image/png": "[encoded data removed]",
      "text/plain": [
       "<Figure size 432x288 with 1 Axes>"
      ]
     },
     "metadata": {},
     "output_type": "display_data"
    }
   ],
   "source": [
    "real_z_var = z_var.real\n",
    "imag_z_var = z_var.imag\n",
    "fig = plt.figure()\n",
    "plt.xlim(-0.5,3)\n",
    "plt.ylim(-4,4)\n",
    "plt.style.use('ggplot')\n",
    "plt.plot(real_z,imag_z,'g*',real_z_var,imag_z_var,'bo')\n",
    "plt.show()"
   ]
  },
  {
   "cell_type": "markdown",
   "metadata": {},
   "source": [
    "## 複素数の定理\n",
    "1. 2つの複素数$z,w$に対して以下の定理が成り立つ\n",
    "$$\\overline{z+w}=\\overline{z}+\\overline{w}, \\overline{zw}=\\overline{z}×\\overline{w} $$\n",
    "ここでの$×$は積を表す．"
   ]
  },
  {
   "cell_type": "code",
   "execution_count": 16,
   "metadata": {},
   "outputs": [
    {
     "name": "stdout",
     "output_type": "stream",
     "text": [
      "(9-5j)\n",
      "(9-5j)\n",
      "QED\n"
     ]
    }
   ],
   "source": [
    "#証明1\n",
    "w = 7+2j\n",
    "w_var = w.conjugate()\n",
    "v = z+w\n",
    "if (v.conjugate() == z_var + w_var):\n",
    "    print(v.conjugate())\n",
    "    print(z_var+w_var)\n",
    "    print(\"QED\")\n",
    "else:\n",
    "    print(\"what happen?\")"
   ]
  },
  {
   "cell_type": "code",
   "execution_count": 17,
   "metadata": {},
   "outputs": [
    {
     "name": "stdout",
     "output_type": "stream",
     "text": [
      "(8-25j)\n",
      "(8-25j)\n",
      "QED\n"
     ]
    }
   ],
   "source": [
    "#証明2\n",
    "qat_zw = z*w\n",
    "if (qat_zw.conjugate() == z_var*w_var):\n",
    "    print(qat_zw.conjugate())\n",
    "    print(z_var*w_var)\n",
    "    print(\"QED\")\n",
    "else:\n",
    "    print(\"what happen?\")"
   ]
  },
  {
   "cell_type": "code",
   "execution_count": null,
   "metadata": {},
   "outputs": [],
   "source": []
  }
 ],
 "metadata": {
  "kernelspec": {
   "display_name": "Python 3",
   "language": "python",
   "name": "python3"
  },
  "language_info": {
   "codemirror_mode": {
    "name": "ipython",
    "version": 3
   },
   "file_extension": ".py",
   "mimetype": "text/x-python",
   "name": "python",
   "nbconvert_exporter": "python",
   "pygments_lexer": "ipython3",
   "version": "3.7.6"
  }
 },
 "nbformat": 4,
 "nbformat_minor": 2
}
