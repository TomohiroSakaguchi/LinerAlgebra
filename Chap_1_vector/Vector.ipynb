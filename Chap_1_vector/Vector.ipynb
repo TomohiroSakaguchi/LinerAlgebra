{
 "cells": [
  {
   "cell_type": "markdown",
   "metadata": {},
   "source": [
    "# ベクトル\n",
    "数を１つ１つバラバラに考えるのではなくいくつかをひとまとめにして考えたものがベクトルである．\n"
   ]
  },
  {
   "cell_type": "code",
   "execution_count": 2,
   "metadata": {},
   "outputs": [],
   "source": [
    "import numpy as np   # NumPyパッケージのインポート\n",
    "import matplotlib.pyplot as plt"
   ]
  },
  {
   "cell_type": "code",
   "execution_count": 3,
   "metadata": {},
   "outputs": [
    {
     "data": {
      "text/plain": [
       "array([[1],\n",
       "       [2],\n",
       "       [3]])"
      ]
     },
     "execution_count": 3,
     "metadata": {},
     "output_type": "execute_result"
    }
   ],
   "source": [
    "#列ベクトル\n",
    "a=np.array([[1],[2],[3]])\n",
    "a"
   ]
  },
  {
   "cell_type": "code",
   "execution_count": 4,
   "metadata": {},
   "outputs": [
    {
     "data": {
      "text/plain": [
       "array([1, 2, 3])"
      ]
     },
     "execution_count": 4,
     "metadata": {},
     "output_type": "execute_result"
    }
   ],
   "source": [
    "#行ベクトル\n",
    "b=np.array([1,2,3])\n",
    "b"
   ]
  },
  {
   "cell_type": "code",
   "execution_count": 5,
   "metadata": {},
   "outputs": [
    {
     "name": "stdout",
     "output_type": "stream",
     "text": [
      "3.7416573867739413\n",
      "2.23606797749979\n"
     ]
    }
   ],
   "source": [
    "#aとcのベクトルの大きさ(ノルム)を求める\n",
    "c = np.array([[2],[1]])\n",
    "n = np.linalg.norm(a)\n",
    "m = np.linalg.norm(c)\n",
    "print(n)\n",
    "print(m)"
   ]
  },
  {
   "cell_type": "code",
   "execution_count": 6,
   "metadata": {},
   "outputs": [
    {
     "name": "stdout",
     "output_type": "stream",
     "text": [
      "3.7416573867739413\n",
      "2.23606797749979\n"
     ]
    }
   ],
   "source": [
    "#関数を使わずに確認してみる\n",
    "n2 = (1+4+9)**0.5 #aの大きさ\n",
    "m2 = (4+1)**0.5 #bの大きさ\n",
    "print(n2)\n",
    "print(m2)"
   ]
  },
  {
   "cell_type": "code",
   "execution_count": 24,
   "metadata": {},
   "outputs": [
    {
     "data": {
      "image/png": "[encoded data removed]",
      "text/plain": [
       "<Figure size 360x360 with 1 Axes>"
      ]
     },
     "metadata": {
      "needs_background": "light"
     },
     "output_type": "display_data"
    }
   ],
   "source": [
    "#ベクトルの足し算\n",
    "a = np.array([[3],[2]])\n",
    "b = np.array([[4],[6]])\n",
    "\n",
    "# 座標設定関数\n",
    "def coordinate(axes, range_x, range_y, grid = True,\n",
    "               xyline = True, xlabel = \"x\", ylabel = \"y\"):\n",
    "    axes.set_xlabel(xlabel, fontsize = 16)\n",
    "    axes.set_ylabel(ylabel, fontsize = 16)\n",
    "    axes.set_xlim(range_x[0], range_x[1])\n",
    "    axes.set_ylim(range_y[0], range_y[1])\n",
    "    if grid == True:\n",
    "        axes.grid()\n",
    "    if xyline == True:\n",
    "        axes.axhline(0, color = \"gray\")\n",
    "        axes.axvline(0, color = \"gray\")\n",
    "\n",
    "# ベクトル描画関数\n",
    "def visual_vector(axes, loc, vector, color = \"red\"):\n",
    "    axes.quiver(loc[0], loc[1],\n",
    "              vector[0], vector[1], color = color,\n",
    "              angles = 'xy', scale_units = 'xy', scale = 1)\n",
    "\n",
    "# FigureとAxes\n",
    "fig = plt.figure(figsize = (5, 5))\n",
    "ax = fig.add_subplot(111)\n",
    "\n",
    "# 座標を設定\n",
    "coordinate(ax, [-3, 8], [-3, 10])\n",
    "\n",
    "# ベクトルv,wを定義\n",
    "#v = np.array([2, 1])\n",
    "#w = np.array([-1, 1])\n",
    "\n",
    "# [0,0]を始点にv1を描画\n",
    "visual_vector(ax, [0, 0], a, \"red\")\n",
    "\n",
    "# v1の終点を始点にｖ2を描画\n",
    "visual_vector(ax, [0,0], b, \"blue\")\n",
    "visual_vector(ax, a, b, \"blue\")\n",
    "\n",
    "# [0,0]を始点にa+bを描画\n",
    "visual_vector(ax, [0, 0], a + b, \"green\")\n",
    "\n",
    "plt.show()"
   ]
  },
  {
   "cell_type": "code",
   "execution_count": 25,
   "metadata": {},
   "outputs": [
    {
     "data": {
      "image/png": "[encoded data removed]",
      "text/plain": [
       "<Figure size 360x360 with 1 Axes>"
      ]
     },
     "metadata": {
      "needs_background": "light"
     },
     "output_type": "display_data"
    }
   ],
   "source": [
    "#ベクトルのスカラー倍\n",
    "a2 = 2*a\n",
    "a3 = (-1)*a\n",
    "#a3を特に逆ベクトルと呼ぶ\n",
    "\n",
    "# FigureとAxes\n",
    "fig = plt.figure(figsize = (5, 5))\n",
    "ax = fig.add_subplot(111)\n",
    "\n",
    "# 座標を設定\n",
    "coordinate(ax, [-4, 8], [-3, 6])\n",
    "\n",
    "# [0,0]を始点にv1を描画\n",
    "visual_vector(ax, [0, 0], a, \"red\")\n",
    "ax.text(a[0]-0.1,a[1]+0.3, \"a\", color = \"red\", size = 15)\n",
    "\n",
    "# [0,0]を始点にv1を描画\n",
    "visual_vector(ax, [0, 0], 2*a, \"red\")\n",
    "ax.text(a2[0],a2[1], \"2a\", color = \"red\", size = 15)\n",
    "\n",
    "# [0,0]を始点にv1を描画\n",
    "visual_vector(ax, [0, 0], (-1)*a, \"red\")\n",
    "ax.text(a3[0]+0.1,a3[1]-0.3, \"-a\", color = \"red\", size = 15)\n",
    "\n",
    "plt.show()"
   ]
  },
  {
   "cell_type": "code",
   "execution_count": 26,
   "metadata": {},
   "outputs": [
    {
     "name": "stdout",
     "output_type": "stream",
     "text": [
      "[[0]\n",
      " [0]]\n"
     ]
    }
   ],
   "source": [
    "c = a+a3\n",
    "print(c)"
   ]
  },
  {
   "cell_type": "code",
   "execution_count": 27,
   "metadata": {},
   "outputs": [
    {
     "name": "stdout",
     "output_type": "stream",
     "text": [
      "[[3]\n",
      " [2]]\n"
     ]
    }
   ],
   "source": [
    "d = a+c\n",
    "print(d)"
   ]
  },
  {
   "cell_type": "code",
   "execution_count": 43,
   "metadata": {},
   "outputs": [
    {
     "data": {
      "image/png": "[encoded data removed]",
      "text/plain": [
       "<Figure size 360x360 with 1 Axes>"
      ]
     },
     "metadata": {
      "needs_background": "light"
     },
     "output_type": "display_data"
    }
   ],
   "source": [
    "#ベクトルの引き算\n",
    "# FigureとAxes\n",
    "fig = plt.figure(figsize = (5, 5))\n",
    "ax = fig.add_subplot(111)\n",
    "\n",
    "# 座標を設定\n",
    "coordinate(ax, [-8, 8], [-8, 10])\n",
    "\n",
    "# ベクトルv,wを定義\n",
    "#v = np.array([2, 1])\n",
    "#w = np.array([-1, 1])\n",
    "\n",
    "# [0,0]を始点にv1を描画\n",
    "visual_vector(ax, [0, 0], a, \"red\")\n",
    "ax.text(a[0],a[1], \"a\", color = \"red\", size = 15)\n",
    "visual_vector(ax, (-1)*b, a, \"red\")\n",
    "ax.text((a[0]+(-1)*b[0]),(a[1]+(-1)*b[1]-0.3), \"a\", color = \"red\", size = 15)\n",
    "\n",
    "# v1の終点を始点にｖ2を描画\n",
    "visual_vector(ax, [0,0], b, \"blue\")\n",
    "ax.text(b[0],b[1], \"b\", color = \"blue\", size = 15)\n",
    "visual_vector(ax, [0,0], (-1)*b, \"blue\")\n",
    "ax.text((-1)*b[0]-0.8,(-1)*b[1], \"-b\", color = \"blue\", size = 15)\n",
    "\n",
    "# [0,0]を始点にa+bを描画\n",
    "visual_vector(ax, [0, 0], a - b, \"black\")\n",
    "visual_vector(ax, b, a - b, \"black\")\n",
    "visual_vector(ax, [0, 0], a + b, \"green\")\n",
    "\n",
    "plt.show()"
   ]
  },
  {
   "cell_type": "code",
   "execution_count": 49,
   "metadata": {},
   "outputs": [
    {
     "name": "stdout",
     "output_type": "stream",
     "text": [
      "Length of e :  1.0\n"
     ]
    },
    {
     "data": {
      "text/plain": [
       "Text([0.83205029], [0.3547002], 'e')"
      ]
     },
     "execution_count": 49,
     "metadata": {},
     "output_type": "execute_result"
    },
    {
     "data": {
      "image/png": "[encoded data removed]",
      "text/plain": [
       "<Figure size 360x360 with 1 Axes>"
      ]
     },
     "metadata": {
      "needs_background": "light"
     },
     "output_type": "display_data"
    }
   ],
   "source": [
    "#単位ベクトル\n",
    "e = (1/np.linalg.norm(a))*a\n",
    "len_e = np.linalg.norm(e)\n",
    "print(\"Length of e : \",len_e)\n",
    "# FigureとAxes\n",
    "fig = plt.figure(figsize = (5, 5))\n",
    "ax = fig.add_subplot(111)\n",
    "\n",
    "# 座標を設定\n",
    "coordinate(ax, [-1, 4], [-1, 3])\n",
    "\n",
    "visual_vector(ax, [0, 0], a, \"red\")\n",
    "ax.text(a[0],a[1], \"a\", color = \"red\", size = 15)\n",
    "visual_vector(ax, [0, 0], e, \"blue\")\n",
    "ax.text(e[0],e[1]-0.2, \"e\", color = \"blue\", size = 15)"
   ]
  },
  {
   "cell_type": "code",
   "execution_count": null,
   "metadata": {},
   "outputs": [],
   "source": []
  }
 ],
 "metadata": {
  "kernelspec": {
   "display_name": "Python 3",
   "language": "python",
   "name": "python3"
  },
  "language_info": {
   "codemirror_mode": {
    "name": "ipython",
    "version": 3
   },
   "file_extension": ".py",
   "mimetype": "text/x-python",
   "name": "python",
   "nbconvert_exporter": "python",
   "pygments_lexer": "ipython3",
   "version": "3.7.6"
  }
 },
 "nbformat": 4,
 "nbformat_minor": 2
}
