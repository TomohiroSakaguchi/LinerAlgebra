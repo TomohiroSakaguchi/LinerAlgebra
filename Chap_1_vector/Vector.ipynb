{
 "cells": [
  {
   "cell_type": "markdown",
   "metadata": {},
   "source": [
    "# ベクトル\n",
    "## introduction\n",
    "数を１つ１つバラバラに考えるのではなくいくつかをひとまとめにして考えたものがベクトルである．\n",
    "\n",
    "一般にn個の数$a_1, a_2, \\cdots , a_n$を並べた組をn次元ベクトルと呼び，各々の数$a_1, a_2, \\cdots , a_n$をその成分と呼ぶ．\n",
    "\n",
    "成分を縦に並べた組を列ベクトルと呼び，横に並べた組を行ベクトルと呼ぶ．\n",
    "\n",
    "列ベクトル：$\\begin{bmatrix}\n",
    "a_1  \\\\\n",
    "\\vdots \\\\\n",
    "a_n \\\\\n",
    "\\end{bmatrix}\n",
    ",\n",
    "$\n",
    "行ベクトル：$\n",
    "\\begin{bmatrix}\n",
    "a_1 &\\cdots&a_n \\\\\n",
    "\\end{bmatrix}\n",
    "$\n",
    "\n",
    "これは単に記法の問題である．\n",
    "これ以降基本的にベクトルは列ベクトルを用いて表す．\n",
    "\n",
    "このベクトルはボールド(太文字)一文字を用いて$\\boldsymbol{a}$のように表すことがある．\n",
    "\n",
    "n次元ベクトル全体の集合をn次元ベクトル空間と呼び，$R^n$で表す．"
   ]
  },
  {
   "cell_type": "code",
   "execution_count": 3,
   "metadata": {},
   "outputs": [],
   "source": [
    "import numpy as np   # NumPyパッケージのインポート\n",
    "import matplotlib.pyplot as plt"
   ]
  },
  {
   "cell_type": "code",
   "execution_count": 4,
   "metadata": {},
   "outputs": [
    {
     "data": {
      "text/plain": [
       "array([[1],\n",
       "       [2],\n",
       "       [3]])"
      ]
     },
     "execution_count": 4,
     "metadata": {},
     "output_type": "execute_result"
    }
   ],
   "source": [
    "#列ベクトル\n",
    "a=np.array([[1],[2],[3]])\n",
    "a"
   ]
  },
  {
   "cell_type": "code",
   "execution_count": 14,
   "metadata": {},
   "outputs": [
    {
     "data": {
      "text/plain": [
       "array([1, 2])"
      ]
     },
     "execution_count": 14,
     "metadata": {},
     "output_type": "execute_result"
    }
   ],
   "source": [
    "#行ベクトル\n",
    "b=np.array([1,2])\n",
    "b"
   ]
  },
  {
   "cell_type": "code",
   "execution_count": 16,
   "metadata": {},
   "outputs": [
    {
     "name": "stdout",
     "output_type": "stream",
     "text": [
      "dimention of a = 3\n",
      "dimention of b = 2\n"
     ]
    }
   ],
   "source": [
    "#ベクトルの次元を求める\n",
    "print(\"dimention of a =\", len(a))\n",
    "print(\"dimention of b =\",len(b))\n",
    "#ndimは配列の次元なのでここでは意味合いが異なるので不使用"
   ]
  },
  {
   "cell_type": "markdown",
   "metadata": {},
   "source": [
    "## ベクトルの長さ\n",
    "平面または空間において点Aから点Bに至る有向線分$\\vec{AB}$もベクトルということにする．\n",
    "\n",
    "この場合，点Aが始点，点Bが終点という．この線分ABの長さをベクトル$\\vec{AB}$の大きさといい，$||\\vec{AB}||$と表す．\n",
    "\n",
    "もう少し一般的に解説をしてみよう．\n",
    "\n",
    "n次元ベクトル$\\boldsymbol{a}$を考える．この大きさ$||\\boldsymbol{a}||$は三平方の定理を応用していけばいい．\n",
    "\n",
    "$$||\\boldsymbol{a}|| = \\sqrt{{a_{1}}^2+{a_{2}}^2+\\cdots+{a_{n}}^2}$$"
   ]
  },
  {
   "cell_type": "code",
   "execution_count": 19,
   "metadata": {},
   "outputs": [
    {
     "name": "stdout",
     "output_type": "stream",
     "text": [
      "3.7416573867739413\n",
      "2.23606797749979\n"
     ]
    }
   ],
   "source": [
    "#aとcのベクトルの大きさ(ノルム)を求める\n",
    "#関数があるのでその恩恵を受けましょう\n",
    "c = np.array([[2],[1]])\n",
    "n = np.linalg.norm(a)\n",
    "m = np.linalg.norm(c)\n",
    "print(n)\n",
    "print(m)"
   ]
  },
  {
   "cell_type": "code",
   "execution_count": 20,
   "metadata": {},
   "outputs": [
    {
     "name": "stdout",
     "output_type": "stream",
     "text": [
      "3.7416573867739413\n",
      "2.23606797749979\n"
     ]
    }
   ],
   "source": [
    "#一応関数を使わずに確認してみる\n",
    "n2 = (1+4+9)**0.5 #aの大きさ\n",
    "m2 = (4+1)**0.5 #bの大きさ\n",
    "print(n2)\n",
    "print(m2)"
   ]
  },
  {
   "cell_type": "markdown",
   "metadata": {},
   "source": [
    "## ベクトルの相等\n",
    "2つのベクトルの各成分が全て等しいときに，この2つのベクトルは等しいという．\n",
    "\n",
    "つまり，$$\\boldsymbol{a} = \n",
    "\\begin{bmatrix}\n",
    "a_1  \\\\\n",
    "\\vdots \\\\\n",
    "a_n \\\\\n",
    "\\end{bmatrix},\n",
    "\\boldsymbol{b} = \n",
    "\\begin{bmatrix}\n",
    "b_1  \\\\\n",
    "\\vdots \\\\\n",
    "b_n \\\\\n",
    "\\end{bmatrix}\n",
    "$$\n",
    "に関して\n",
    "$$\n",
    "\\boldsymbol{a} = \\boldsymbol{b} \n",
    "\\begin{eqnarray}\n",
    "\\Leftrightarrow\n",
    "  \\begin{cases}\n",
    "    a_1 &=& b_1  \\\\\n",
    "    &\\vdots& \\\\\n",
    "    a_n &=& b_n\n",
    "  \\end{cases}\n",
    "\\end{eqnarray}\n",
    "$$\n",
    "のとき，$\\boldsymbol{a},\\boldsymbol{b}$は相等であるという．\n",
    "\n",
    "すなわち，向きと大きさが等しいときに等しいと言えるのである．"
   ]
  },
  {
   "cell_type": "code",
   "execution_count": 52,
   "metadata": {},
   "outputs": [
    {
     "data": {
      "text/plain": [
       "Text([6.8], [5.7], 'D')"
      ]
     },
     "execution_count": 52,
     "metadata": {},
     "output_type": "execute_result"
    },
    {
     "data": {
      "image/png": "[encoded data removed]",
      "text/plain": [
       "<Figure size 360x360 with 1 Axes>"
      ]
     },
     "metadata": {
      "needs_background": "light"
     },
     "output_type": "display_data"
    }
   ],
   "source": [
    "# 座標設定関数\n",
    "def coordinate(axes, range_x, range_y, grid = True,\n",
    "               xyline = True, xlabel = \"x\", ylabel = \"y\"):\n",
    "    axes.set_xlabel(xlabel, fontsize = 16)\n",
    "    axes.set_ylabel(ylabel, fontsize = 16)\n",
    "    axes.set_xlim(range_x[0], range_x[1])\n",
    "    axes.set_ylim(range_y[0], range_y[1])\n",
    "    if grid == True:\n",
    "        axes.grid()\n",
    "    if xyline == True:\n",
    "        axes.axhline(0, color = \"gray\")\n",
    "        axes.axvline(0, color = \"gray\")\n",
    "\n",
    "# ベクトル描画関数\n",
    "def visual_vector(axes, loc, vector, color = \"red\"):\n",
    "    axes.quiver(loc[0], loc[1],\n",
    "              vector[0], vector[1], color = color,\n",
    "              angles = 'xy', scale_units = 'xy', scale = 1)\n",
    "\n",
    "# FigureとAxes\n",
    "fig = plt.figure(figsize = (5, 5))\n",
    "ax = fig.add_subplot(111)\n",
    "#Pythonでのエスケープシーケンスは[r]を用いる．\n",
    "plt.title(r'$\\vec{AB}=\\vec{CD}$')\n",
    "\n",
    "# 座標を設定\n",
    "coordinate(ax, [0, 8], [0, 8])\n",
    "\n",
    "#適当にベクトルを指定してみる\n",
    "a = np.array([[3],[0.5]])\n",
    "\n",
    "#始点を変えてaを描画\n",
    "visual_vector(ax, [1, 2], a, \"red\")\n",
    "visual_vector(ax, [4, 5], a, \"red\")\n",
    "\n",
    "#始点同士，終点同士を点線結ぶ\n",
    "ax.plot([1,4], [2, 5], ls = \"--\", color = \"black\")\n",
    "ax.plot([1+a[0],4+a[0]], [2+a[1], 5+a[1]], ls = \"--\", color = \"black\")\n",
    "\n",
    "ax.text(1-0.2,2-0.4, \"A\", color = \"red\", size = 15)\n",
    "ax.text(1-0.2+a[0],2-0.4+a[1], \"B\", color = \"red\", size = 15)\n",
    "ax.text(4-0.2,5+0.2, \"C\", color = \"red\", size = 15)\n",
    "ax.text(4-0.2+a[0],5+0.2+a[1], \"D\", color = \"red\", size = 15)"
   ]
  },
  {
   "cell_type": "markdown",
   "metadata": {},
   "source": [
    "## ベクトルの演算\n",
    "### ベクトルの足し算，スカラー倍\n",
    "2つのn次元ベクトル\n",
    "$$\\boldsymbol{a} = \n",
    "\\begin{bmatrix}\n",
    "a_1  \\\\\n",
    "\\vdots \\\\\n",
    "a_n \\\\\n",
    "\\end{bmatrix},\n",
    "\\boldsymbol{b} = \n",
    "\\begin{bmatrix}\n",
    "b_1  \\\\\n",
    "\\vdots \\\\\n",
    "b_n \\\\\n",
    "\\end{bmatrix}\n",
    "$$\n",
    "およびスカラー$k$に対して足し算，スカラー倍と呼ぶベクトル$\\boldsymbol{a}+\\boldsymbol{b},k\\boldsymbol{a}$をそれぞれ次のように定義する．\n",
    "$$\\boldsymbol{a}+\\boldsymbol{b} = \\begin{bmatrix}\n",
    "a_1+b_1  \\\\\n",
    "\\vdots \\\\\n",
    "a_n + b_n\\\\\n",
    "\\end{bmatrix}\n",
    ",\n",
    "k\\boldsymbol{a} = \\begin{bmatrix}\n",
    "k a_1  \\\\\n",
    "\\vdots \\\\\n",
    "k a_n \\\\\n",
    "\\end{bmatrix}\n",
    "$$"
   ]
  },
  {
   "cell_type": "code",
   "execution_count": 73,
   "metadata": {},
   "outputs": [
    {
     "data": {
      "image/png": "[encoded data removed]",
      "text/plain": [
       "<Figure size 360x360 with 1 Axes>"
      ]
     },
     "metadata": {
      "needs_background": "light"
     },
     "output_type": "display_data"
    }
   ],
   "source": [
    "#ベクトルの足し算\n",
    "a = np.array([[3],[1]])\n",
    "b = np.array([[4],[6]])\n",
    "\n",
    "# 座標設定関数\n",
    "def coordinate(axes, range_x, range_y, grid = True,\n",
    "               xyline = True, xlabel = \"x\", ylabel = \"y\"):\n",
    "    axes.set_xlabel(xlabel, fontsize = 16)\n",
    "    axes.set_ylabel(ylabel, fontsize = 16)\n",
    "    axes.set_xlim(range_x[0], range_x[1])\n",
    "    axes.set_ylim(range_y[0], range_y[1])\n",
    "    if grid == True:\n",
    "        axes.grid()\n",
    "    if xyline == True:\n",
    "        axes.axhline(0, color = \"gray\")\n",
    "        axes.axvline(0, color = \"gray\")\n",
    "\n",
    "# ベクトル描画関数\n",
    "def visual_vector(axes, loc, vector, color = \"red\"):\n",
    "    axes.quiver(loc[0], loc[1],\n",
    "              vector[0], vector[1], color = color,\n",
    "              angles = 'xy', scale_units = 'xy', scale = 1)\n",
    "\n",
    "# FigureとAxes\n",
    "fig = plt.figure(figsize = (5, 5))\n",
    "ax = fig.add_subplot(111)\n",
    "\n",
    "# 座標を設定\n",
    "coordinate(ax, [0, 8], [0, 8])\n",
    "\n",
    "\n",
    "# [0,0]を始点にaを描画\n",
    "visual_vector(ax, [0, 0], a, \"red\")\n",
    "\n",
    "# [0,0]を始点にbを描画\n",
    "visual_vector(ax, [0,0], b, \"blue\")\n",
    "# aの終点を始点にbを描画\n",
    "visual_vector(ax, a, b, \"blue\")\n",
    "\n",
    "# [0,0]を始点にa+bを描画\n",
    "visual_vector(ax, [0, 0], a + b, \"green\")\n",
    "\n",
    "ax.plot([b[0],b[0]+a[0]], [b[1], b[1]+a[1]], ls = \"--\", color = \"black\")\n",
    "\n",
    "ax.text(a[0]/2-0.1,a[1]/2-0.5, \"a\", color = \"red\", size = 15)\n",
    "ax.text(b[0]/2-0.5,b[1]/2, \"b\", color = \"blue\", size = 15)\n",
    "ax.text(b[0]/2+a[0]+0.5,b[1]/2+a[1], \"b\", color = \"blue\", size = 15)\n",
    "ax.text((a[0]+b[0])/2-0.4, (a[1]+b[1])/2+0.3, \"a+b\", color = \"green\", size = 15)\n",
    "\n",
    "plt.show()"
   ]
  },
  {
   "cell_type": "markdown",
   "metadata": {},
   "source": [
    "この図より，$\\boldsymbol{a}$と$\\boldsymbol{b}$の始点を合わせて書いた時，$\\boldsymbol{a},\\boldsymbol{b}$を2辺とする平行四辺形の対角線が$\\boldsymbol{a}+\\boldsymbol{b}$に相当する．\n",
    "\n",
    "また，ベクトル$\\boldsymbol{b}$を平行移動させてベクトル$\\boldsymbol{a}$の終点に合わせた時，$\\boldsymbol{a}$の始点と$\\boldsymbol{b}$の終点を結んだ矢印も$\\boldsymbol{a}+\\boldsymbol{b}$に相当する．"
   ]
  },
  {
   "cell_type": "code",
   "execution_count": 78,
   "metadata": {},
   "outputs": [
    {
     "data": {
      "image/png": "[encoded data removed]",
      "text/plain": [
       "<Figure size 360x360 with 1 Axes>"
      ]
     },
     "metadata": {
      "needs_background": "light"
     },
     "output_type": "display_data"
    }
   ],
   "source": [
    "#ベクトルのスカラー倍\n",
    "a2 = 2*a\n",
    "a_rev = (-1)*a\n",
    "\n",
    "# FigureとAxes\n",
    "fig = plt.figure(figsize = (5, 5))\n",
    "ax = fig.add_subplot(111)\n",
    "\n",
    "# 座標を設定\n",
    "coordinate(ax, [-4, 8], [-2, 3])\n",
    "\n",
    "# [0,0]を始点にv1を描画\n",
    "visual_vector(ax, [0, 0], a, \"red\")\n",
    "ax.text(a[0]-0.1,a[1]+0.3, \"a\", color = \"red\", size = 15)\n",
    "\n",
    "# [0,0]を始点にv1を描画\n",
    "visual_vector(ax, [0, 0], 2*a, \"red\")\n",
    "ax.text(a2[0],a2[1], \"2a\", color = \"red\", size = 15)\n",
    "\n",
    "# [0,0]を始点にv1を描画\n",
    "visual_vector(ax, [0, 0], (-1)*a, \"red\")\n",
    "ax.text(a_rev[0]+0.1,a_rev[1]-0.3, \"-a\", color = \"red\", size = 15)\n",
    "\n",
    "plt.show()"
   ]
  },
  {
   "cell_type": "markdown",
   "metadata": {},
   "source": [
    "### 逆ベクトル，零ベクトル\n",
    "ベクトル$\\boldsymbol{a}$に対して，$(-1)\\boldsymbol{a}$を$\\boldsymbol{a}$の逆ベクトルと呼び，$- \\boldsymbol{a}$で表す．\n",
    "すなわち，\n",
    "$$\n",
    "\\boldsymbol{a} = \\begin{bmatrix}\n",
    "a_1  \\\\\n",
    "\\vdots \\\\\n",
    "a_n \\\\\n",
    "\\end{bmatrix}\n",
    "に対して\n",
    "-\\boldsymbol{a} = \\begin{bmatrix}\n",
    "- a_1  \\\\\n",
    "\\vdots \\\\\n",
    "- a_n \\\\\n",
    "\\end{bmatrix}\n",
    "$$\n",
    "となる．\n",
    "\n",
    "つまりスカラー$k=-1$のとき特別に名前が付いていると考えるといいだろう．\n",
    "\n",
    "ベクトル$\\boldsymbol{a}$に対して，その逆ベクトル$- \\boldsymbol{a}$はベクトル$\\boldsymbol{a}$と長さが同じで向きが反対のベクトルである．\n",
    "\n",
    "ここで文字式の演算で，ある文字とその負の文字の和をとると0になった．\n",
    "\n",
    "これを数式で表すと以下のようになる．\n",
    "$$x + (-x) = 0$$\n",
    "つまり，0に相当するベクトルを別途定める必要がある．\n",
    "\n",
    "そこで，全ての成分が0ベクトルであるベクトルを零ベクトル(ゼロベクトル)と定義し，$\\boldsymbol{0}$で表す．\n",
    "\n",
    "すなわち，\n",
    "$$\n",
    "\\boldsymbol{0} = \\begin{bmatrix}\n",
    "0  \\\\\n",
    "\\vdots \\\\\n",
    "0 \\\\\n",
    "\\end{bmatrix}\n",
    "$$\n",
    "となる．\n",
    "\n",
    "以上より，逆ベクトルと零ベクトルに関して以下の等式が得られる．\n",
    "$$\\boldsymbol{a}+(-\\boldsymbol{a}) = \\boldsymbol{0}, \\boldsymbol{a} + \\boldsymbol{0} = \\boldsymbol{a}$$"
   ]
  },
  {
   "cell_type": "code",
   "execution_count": 87,
   "metadata": {},
   "outputs": [
    {
     "name": "stdout",
     "output_type": "stream",
     "text": [
      "a is [[3]\n",
      " [1]]\n",
      "reverse a is [[-3]\n",
      " [-1]]\n",
      "zero is [[0]\n",
      " [0]]\n",
      "length of a =  3.1622776601683795\n",
      "length of a_rev =  3.1622776601683795\n"
     ]
    }
   ],
   "source": [
    "#ベクトルとその逆ベクトルの和は零ベクトルになる\n",
    "vec_zero = a+a_rev\n",
    "#長さを確認\n",
    "len_a = np.linalg.norm(a)\n",
    "len_a_rev =  np.linalg.norm(a_rev)\n",
    "print(\"a is\", a)\n",
    "print(\"reverse a is\",a_rev)\n",
    "print(\"zero is\",vec_zero)\n",
    "print(\"length of a = \",len_a)\n",
    "print(\"length of a_rev = \",len_a_rev)"
   ]
  },
  {
   "cell_type": "code",
   "execution_count": 88,
   "metadata": {},
   "outputs": [
    {
     "name": "stdout",
     "output_type": "stream",
     "text": [
      "a is [[3]\n",
      " [1]]\n",
      "a dash is [[3]\n",
      " [1]]\n"
     ]
    }
   ],
   "source": [
    "#あるベクトルに零ベクトルを加えても何も変化がない\n",
    "a_dash = a+vec_zero\n",
    "print(\"a is\",a)\n",
    "print(\"a dash is\",a_dash)"
   ]
  },
  {
   "cell_type": "markdown",
   "metadata": {},
   "source": [
    "### ベクトルの引き算\n",
    "2つのベクトル$\\boldsymbol{a},\\boldsymbol{b}$に対して引き算$\\boldsymbol{a}-\\boldsymbol{b}$を$\\boldsymbol{a}+(-\\boldsymbol{b})$によって定義する．"
   ]
  },
  {
   "cell_type": "code",
   "execution_count": 99,
   "metadata": {},
   "outputs": [
    {
     "data": {
      "image/png": "[encoded data removed]",
      "text/plain": [
       "<Figure size 360x360 with 1 Axes>"
      ]
     },
     "metadata": {
      "needs_background": "light"
     },
     "output_type": "display_data"
    }
   ],
   "source": [
    "#ベクトルの引き算\n",
    "# FigureとAxes\n",
    "fig = plt.figure(figsize = (5, 5))\n",
    "ax = fig.add_subplot(111)\n",
    "\n",
    "# 座標を設定\n",
    "coordinate(ax, [-8, 8], [-8, 10])\n",
    "\n",
    "visual_vector(ax, [0, 0], a, \"red\")\n",
    "ax.text(a[0],a[1], \"a\", color = \"red\", size = 15)\n",
    "visual_vector(ax, (-1)*b, a, \"red\")\n",
    "ax.text((a[0]+(-1)*b[0]),(a[1]+(-1)*b[1]-0.3), \"a\", color = \"red\", size = 15)\n",
    "\n",
    "visual_vector(ax, [0,0], b, \"blue\")\n",
    "ax.text(b[0],b[1], \"b\", color = \"blue\", size = 15)\n",
    "visual_vector(ax, [0,0], (-1)*b, \"blue\")\n",
    "ax.text((-1)*b[0]-0.8,(-1)*b[1], \"-b\", color = \"blue\", size = 15)\n",
    "\n",
    "visual_vector(ax, [0, 0], a - b, \"black\")\n",
    "\n",
    "ax.plot([b[0],b[0]+a[0]], [b[1], b[1]+a[1]], ls = \"--\", color = \"magenta\")\n",
    "ax.plot([a[0],b[0]+a[0]], [a[1], b[1]+a[1]], ls = \"--\", color = \"magenta\")\n",
    "\n",
    "ax.text((a[0]-b[0])/2+0.2,(a[1]-b[1])/2-0.2, \"a-b\", color = \"black\", size = 15)\n",
    "visual_vector(ax, b, a - b, \"black\")\n",
    "ax.text((b[0]-a[0])/2+a[0],(b[1]-a[1])/2-0.2, \"a-b\", color = \"black\", size = 15)\n",
    "visual_vector(ax, [0, 0], a + b, \"green\")\n",
    "ax.text((a[0]+b[0])-0.6, (a[1]+b[1])+0.3, \"a+b\", color = \"green\", size = 15)\n",
    "\n",
    "plt.show()"
   ]
  },
  {
   "cell_type": "markdown",
   "metadata": {},
   "source": [
    "ベクトルの引き算$\\boldsymbol{a}-\\boldsymbol{b}$は2つのベクトルの始点を合わせ，$\\boldsymbol{b}$から$\\boldsymbol{a}$に戻る(引き算)イメージとすると捉えやすいだろう．"
   ]
  },
  {
   "cell_type": "markdown",
   "metadata": {},
   "source": [
    "### 単位ベクトル\n",
    "長さが1であるベクトルを単位ベクトルと呼ぶ．$\\boldsymbol{a} \\neq \\boldsymbol{0}$のとき，\n",
    "$$\\boldsymbol{e} = \\frac{1}{||a||}\\boldsymbol{a}$$"
   ]
  },
  {
   "cell_type": "code",
   "execution_count": 49,
   "metadata": {},
   "outputs": [
    {
     "name": "stdout",
     "output_type": "stream",
     "text": [
      "Length of e :  1.0\n"
     ]
    },
    {
     "data": {
      "text/plain": [
       "Text([0.83205029], [0.3547002], 'e')"
      ]
     },
     "execution_count": 49,
     "metadata": {},
     "output_type": "execute_result"
    },
    {
     "data": {
      "image/png": "[encoded data removed]",
      "text/plain": [
       "<Figure size 360x360 with 1 Axes>"
      ]
     },
     "metadata": {
      "needs_background": "light"
     },
     "output_type": "display_data"
    }
   ],
   "source": [
    "#単位ベクトル\n",
    "e = (1/np.linalg.norm(a))*a\n",
    "len_e = np.linalg.norm(e)\n",
    "print(\"Length of e : \",len_e)\n",
    "# FigureとAxes\n",
    "fig = plt.figure(figsize = (5, 5))\n",
    "ax = fig.add_subplot(111)\n",
    "\n",
    "# 座標を設定\n",
    "coordinate(ax, [-1, 4], [-1, 3])\n",
    "\n",
    "visual_vector(ax, [0, 0], a, \"red\")\n",
    "ax.text(a[0],a[1], \"a\", color = \"red\", size = 15)\n",
    "visual_vector(ax, [0, 0], e, \"blue\")\n",
    "ax.text(e[0],e[1]-0.2, \"e\", color = \"blue\", size = 15)"
   ]
  },
  {
   "cell_type": "code",
   "execution_count": null,
   "metadata": {},
   "outputs": [],
   "source": []
  }
 ],
 "metadata": {
  "kernelspec": {
   "display_name": "Python 3",
   "language": "python",
   "name": "python3"
  },
  "language_info": {
   "codemirror_mode": {
    "name": "ipython",
    "version": 3
   },
   "file_extension": ".py",
   "mimetype": "text/x-python",
   "name": "python",
   "nbconvert_exporter": "python",
   "pygments_lexer": "ipython3",
   "version": "3.7.6"
  }
 },
 "nbformat": 4,
 "nbformat_minor": 2
}
