{
 "cells": [
  {
   "cell_type": "markdown",
   "metadata": {},
   "source": [
    "# 行列\n",
    "$m$と$n$を2つの自然数とする． $mn$個の数または文字\n",
    " $$a_{ij} (1 \\leq i \\leq m, 1\\leq j \\leq n)$$\n",
    " を次のように長方形に並べてカッコでくくったものを$m$行$n$列の行列という．\n",
    " $$A = \\begin{bmatrix}\n",
    "a_{11} & a_{12} & \\cdots & a_{1n} \\\\\n",
    "a_{21} & a_{22} & \\cdots & a_{2n} \\\\\n",
    "\\vdots & \\vdots & & \\vdots \\\\\n",
    "a_{m1} & a_{m2} & \\cdots & a_{mn} \\\\\n",
    "\\end{bmatrix}\n",
    "$$\n",
    "$m$行$n$列の行列を$m\\times n$型行列，$m\\times n$行列，$(m,n)$行列などと表現する．\n",
    "\n",
    "各$a_{ij}$を行列$A$の$(i,j)$成分という．"
   ]
  },
  {
   "cell_type": "code",
   "execution_count": 2,
   "metadata": {},
   "outputs": [],
   "source": [
    "from IPython.display import Image, display_png\n",
    "# png_file: str\n",
    "#display_png(Image(png_file))#画像ファイル用意してあげればはっつけられる"
   ]
  },
  {
   "cell_type": "code",
   "execution_count": null,
   "metadata": {},
   "outputs": [],
   "source": []
  }
 ],
 "metadata": {
  "kernelspec": {
   "display_name": "Python 3",
   "language": "python",
   "name": "python3"
  },
  "language_info": {
   "codemirror_mode": {
    "name": "ipython",
    "version": 3
   },
   "file_extension": ".py",
   "mimetype": "text/x-python",
   "name": "python",
   "nbconvert_exporter": "python",
   "pygments_lexer": "ipython3",
   "version": "3.7.6"
  }
 },
 "nbformat": 4,
 "nbformat_minor": 2
}
